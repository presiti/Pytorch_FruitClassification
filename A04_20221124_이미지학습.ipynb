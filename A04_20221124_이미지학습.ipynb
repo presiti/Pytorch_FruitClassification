{
 "cells": [
  {
   "cell_type": "code",
   "execution_count": 1,
   "metadata": {
    "colab": {
     "base_uri": "https://localhost:8080/"
    },
    "executionInfo": {
     "elapsed": 7,
     "status": "ok",
     "timestamp": 1669100379365,
     "user": {
      "displayName": "변윤진",
      "userId": "03984191637159833471"
     },
     "user_tz": -540
    },
    "id": "K4MwloJp251y",
    "outputId": "dafa5bf8-a076-4e3e-f97d-37f2e09327e1"
   },
   "outputs": [
    {
     "name": "stderr",
     "output_type": "stream",
     "text": [
      "/usr/local/lib/python3.6/dist-packages/tqdm/auto.py:22: TqdmWarning: IProgress not found. Please update jupyter and ipywidgets. See https://ipywidgets.readthedocs.io/en/stable/user_install.html\n",
      "  from .autonotebook import tqdm as notebook_tqdm\n"
     ]
    },
    {
     "name": "stdout",
     "output_type": "stream",
     "text": [
      "cuda:0\n"
     ]
    }
   ],
   "source": [
    "import torch\n",
    "\n",
    "# CUDA 기기가 존재한다면, 아래 코드가 CUDA 장치를 출력합니다\n",
    "device = torch.device('cuda:0' if torch.cuda.is_available() else 'cpu')\n",
    "\n",
    "print(device)"
   ]
  },
  {
   "cell_type": "markdown",
   "metadata": {
    "id": "qTdN6Ep1phyi"
   },
   "source": [
    "# 학습시작"
   ]
  },
  {
   "cell_type": "markdown",
   "metadata": {
    "tags": []
   },
   "source": [
    "### 라이브러리 import"
   ]
  },
  {
   "cell_type": "code",
   "execution_count": 2,
   "metadata": {
    "id": "H6pyGesjlcfn"
   },
   "outputs": [],
   "source": [
    "import torch.nn as nn                     \n",
    "import torch.nn.functional as F           # 손실함수\n",
    "\n",
    "import torch.optim as optim               # optimizer\n",
    "from torch.utils.data import DataLoader\n",
    "\n",
    "import torchvision\n",
    "import torchvision.transforms as transforms\n",
    "\n",
    "import splitfolders as sf\n",
    "\n",
    "from tqdm import tqdm\n",
    "import torch.optim as optim"
   ]
  },
  {
   "cell_type": "code",
   "execution_count": 70,
   "metadata": {},
   "outputs": [],
   "source": [
    "import matplotlib.pyplot as plt\n",
    "import numpy as np\n",
    "from PIL import Image\n",
    "\n",
    "import os"
   ]
  },
  {
   "cell_type": "code",
   "execution_count": 4,
   "metadata": {},
   "outputs": [],
   "source": [
    "from glob import glob\n",
    "import numpy as np"
   ]
  },
  {
   "cell_type": "markdown",
   "metadata": {
    "jp-MarkdownHeadingCollapsed": true,
    "tags": []
   },
   "source": [
    "#### 설치"
   ]
  },
  {
   "cell_type": "code",
   "execution_count": 3,
   "metadata": {},
   "outputs": [
    {
     "name": "stdout",
     "output_type": "stream",
     "text": [
      "Collecting tqdm\n",
      "  Downloading tqdm-4.64.1-py2.py3-none-any.whl (78 kB)\n",
      "     |████████████████████████████████| 78 kB 1.1 MB/s             \n",
      "\u001b[?25hCollecting importlib-resources\n",
      "  Downloading importlib_resources-5.4.0-py3-none-any.whl (28 kB)\n",
      "Requirement already satisfied: zipp>=3.1.0 in /usr/local/lib/python3.6/dist-packages (from importlib-resources->tqdm) (3.6.0)\n",
      "Installing collected packages: importlib-resources, tqdm\n",
      "Successfully installed importlib-resources-5.4.0 tqdm-4.64.1\n",
      "\u001b[33mWARNING: Running pip as the 'root' user can result in broken permissions and conflicting behaviour with the system package manager. It is recommended to use a virtual environment instead: https://pip.pypa.io/warnings/venv\u001b[0m\n",
      "Note: you may need to restart the kernel to use updated packages.\n"
     ]
    }
   ],
   "source": [
    "pip install tqdm"
   ]
  },
  {
   "cell_type": "code",
   "execution_count": 108,
   "metadata": {},
   "outputs": [
    {
     "name": "stdout",
     "output_type": "stream",
     "text": [
      "Collecting split-folders\n",
      "  Downloading split_folders-0.5.1-py3-none-any.whl (8.4 kB)\n",
      "Installing collected packages: split-folders\n",
      "Successfully installed split-folders-0.5.1\n",
      "\u001b[33mWARNING: Running pip as the 'root' user can result in broken permissions and conflicting behaviour with the system package manager. It is recommended to use a virtual environment instead: https://pip.pypa.io/warnings/venv\u001b[0m\n",
      "Note: you may need to restart the kernel to use updated packages.\n"
     ]
    }
   ],
   "source": [
    "pip install split-folders"
   ]
  },
  {
   "cell_type": "markdown",
   "metadata": {
    "jp-MarkdownHeadingCollapsed": true,
    "tags": []
   },
   "source": [
    "### 난수 고정"
   ]
  },
  {
   "cell_type": "code",
   "execution_count": 7,
   "metadata": {
    "id": "fqoQcadjtagm"
   },
   "outputs": [],
   "source": [
    "device = 'cuda' if torch.cuda.is_available() else 'cpu'\n",
    "\n",
    "torch.manual_seed(777)\n",
    "if device == 'cuda':\n",
    "    torch.cuda.manual_seed_all(777)"
   ]
  },
  {
   "cell_type": "markdown",
   "metadata": {
    "id": "Bb9Xwv_d27tk",
    "tags": []
   },
   "source": [
    "### 데이터"
   ]
  },
  {
   "cell_type": "markdown",
   "metadata": {
    "jp-MarkdownHeadingCollapsed": true,
    "tags": []
   },
   "source": [
    "##### 학습 데이터 분할하기"
   ]
  },
  {
   "cell_type": "markdown",
   "metadata": {
    "id": "2CkTiF8oOcuv",
    "tags": []
   },
   "source": [
    "https://mgyo.tistory.com/75  \n",
    "https://eunchankim-dev.tistory.com/55"
   ]
  },
  {
   "cell_type": "code",
   "execution_count": 8,
   "metadata": {},
   "outputs": [
    {
     "name": "stderr",
     "output_type": "stream",
     "text": [
      "\n",
      "\n",
      "Copying files: 0 files [00:00, ? files/s]\u001b[A\u001b[A\n",
      "\n",
      "Copying files: 891 files [00:00, 8904.30 files/s]\u001b[A\u001b[A\n",
      "\n",
      "Copying files: 1943 files [00:00, 9853.29 files/s]\u001b[A\u001b[A\n",
      "\n",
      "Copying files: 3053 files [00:00, 10420.84 files/s]\u001b[A\u001b[A\n",
      "\n",
      "Copying files: 4146 files [00:00, 10621.72 files/s]\u001b[A\u001b[A\n",
      "\n",
      "Copying files: 5241 files [00:00, 10617.74 files/s]\u001b[A\u001b[A\n",
      "\n",
      "Copying files: 6404 files [00:00, 10463.50 files/s]\u001b[A\u001b[A\n"
     ]
    }
   ],
   "source": [
    "# train 세트를 8:2비율로 validation 세트로 분할\n",
    "sf.ratio(\"apple_dataset/train\", output=\"apple_dataset/train_split\", seed=656, ratio=(.8, .2))"
   ]
  },
  {
   "cell_type": "markdown",
   "metadata": {
    "id": "vreloEwPBfvd"
   },
   "source": [
    "##### 데이터 세트 불러오기"
   ]
  },
  {
   "cell_type": "code",
   "execution_count": 5,
   "metadata": {
    "id": "LzOeCXvcyLww"
   },
   "outputs": [],
   "source": [
    "# 정규화 설정\n",
    "transform = transforms.Compose( # 여러단계로 변환 시 묶어서 사용할 수 있게 함.\n",
    "    [transforms.ToTensor(), # 데이터를 Tensor로 변환\n",
    "     transforms.Normalize((0.5, 0.5, 0.5), (0.5, 0.5, 0.5))]) \n",
    "\n",
    "batch_size = 13\n",
    "\n",
    "# 데이터세트 불러오기\n",
    "trainset = torchvision.datasets.ImageFolder(root = 'apple_dataset/train_split/train',\n",
    "                                             transform = transform)\n",
    "trainloader = torch.utils.data.DataLoader(trainset, batch_size=batch_size,\n",
    "                                          shuffle=True, num_workers=2)\n",
    "\n",
    "valset = torchvision.datasets.ImageFolder(root = 'apple_dataset/train_split/val',\n",
    "                                             transform = transform)\n",
    "valloader = torch.utils.data.DataLoader(valset, batch_size=batch_size,\n",
    "                                         shuffle=False, num_workers=2)\n",
    "\n",
    "\n",
    "testset = torchvision.datasets.ImageFolder(root = 'apple_dataset/test',\n",
    "                                             transform = transform)\n",
    "testloader = torch.utils.data.DataLoader(testset, batch_size=batch_size,\n",
    "                                         shuffle=False, num_workers=2)\n",
    "\n",
    "classes = trainset.classes"
   ]
  },
  {
   "cell_type": "code",
   "execution_count": 6,
   "metadata": {
    "colab": {
     "base_uri": "https://localhost:8080/"
    },
    "executionInfo": {
     "elapsed": 324,
     "status": "ok",
     "timestamp": 1669100406433,
     "user": {
      "displayName": "변윤진",
      "userId": "03984191637159833471"
     },
     "user_tz": -540
    },
    "id": "uX0hnz68Q4ls",
    "outputId": "f19b84b5-a200-4352-f086-d66c32cbfd06"
   },
   "outputs": [
    {
     "data": {
      "text/plain": [
       "13"
      ]
     },
     "execution_count": 6,
     "metadata": {},
     "output_type": "execute_result"
    }
   ],
   "source": [
    "# classes가 각 폴더를 배열 형태로 담음\n",
    "len(classes)"
   ]
  },
  {
   "cell_type": "markdown",
   "metadata": {
    "id": "gIANYsbhBj7r",
    "tags": []
   },
   "source": [
    "### 데이터 세트 분석\n",
    "\n",
    "---\n",
    "1. 샘플\n",
    "2. 크기\n",
    "3. 개수\n",
    "4. 비율\n",
    "5. 분포\n"
   ]
  },
  {
   "cell_type": "markdown",
   "metadata": {
    "id": "7jp4b605OUcS"
   },
   "source": [
    "https://www.sas.com/ko_kr/solutions/ai-mic/blog/machine-learning-data-set.html"
   ]
  },
  {
   "cell_type": "markdown",
   "metadata": {
    "id": "95X_ZS1jNri2",
    "tags": []
   },
   "source": [
    "#### 개수"
   ]
  },
  {
   "cell_type": "code",
   "execution_count": 194,
   "metadata": {},
   "outputs": [
    {
     "name": "stdout",
     "output_type": "stream",
     "text": [
      "전체 이미지의 개수 : 8538\n",
      "학습 이미지의 개수 : 5117\n",
      "검증 이미지의 개수 : 1287\n",
      "시험 이미지의 개수 : 2134\n",
      "\n",
      "학습 데이터 정보\n",
      "     클래스명          개수   확장자\n",
      "Apple_Braeburn      /  46  / .jpg\n",
      "Apple_Crimson_Snow  /  50  / .jpg\n",
      "Apple_Golden1       /  45  / .jpg\n",
      "Apple_Golden2       /  45  / .jpg\n",
      "Apple_Golden3       /  45  / .jpg\n",
      "Apple_Granny_Smith  /  50  / .jpg\n",
      "Apple_Pink_Lady     /  47  / .jpg\n",
      "Apple_Red1          /  42  / .jpg\n",
      "Apple_Red2          /  42  / .jpg\n",
      "Apple_Red3          /  42  / .jpg\n",
      "Apple_Red_Delicious /  51  / .jpg\n",
      "Apple_Red_Yellow1   /  49  / .jpg\n",
      "Apple_Red_Yellow2   /  49  / .jpg\n"
     ]
    }
   ],
   "source": [
    "# 전체 이미지 개수 출력하기\n",
    "train_list = glob('apple_dataset/train_split/train/Apple_*/**')\n",
    "trian_file_list = glob('apple_dataset/train_split/train/Apple_*')\n",
    "val_list = glob('apple_dataset/train_split/val/Apple_*/**')\n",
    "test_list = glob('apple_dataset/test/Apple_*/**')\n",
    "\n",
    "all_cnt = len(train_list) + len(val_list) + len(test_list)\n",
    "\n",
    "print('전체 이미지의 개수 :', all_cnt)\n",
    "\n",
    "# 학습 이미지 개수 확인하기\n",
    "print('학습 이미지의 개수 :', len(train_list))\n",
    "print('검증 이미지의 개수 :', len(val_list))\n",
    "print('시험 이미지의 개수 :', len(test_list))\n",
    "\n",
    "print()\n",
    "\n",
    "print('학습 데이터 정보')\n",
    "print('%14s' % '클래스명 %15s' % '개수 %5s' % '확장자')\n",
    "for i in range(0, 13):\n",
    "    file_name = str(trian_file_list[i])\n",
    "    file_dir = os.listdir(trian_file_list[i])\n",
    "    img_extension = os.path.splitext(file_dir[0])[1]\n",
    "    print(f'{file_name[32:]:19s} /  {len(trian_file_list[i])}  / {img_extension}')"
   ]
  },
  {
   "cell_type": "markdown",
   "metadata": {
    "id": "zD1Iw6jGNs6x",
    "tags": []
   },
   "source": [
    "https://ndb796.tistory.com/658"
   ]
  },
  {
   "cell_type": "markdown",
   "metadata": {},
   "source": [
    "#### 비율"
   ]
  },
  {
   "cell_type": "code",
   "execution_count": 196,
   "metadata": {},
   "outputs": [
    {
     "data": {
      "text/plain": [
       "1.0"
      ]
     },
     "execution_count": 196,
     "metadata": {},
     "output_type": "execute_result"
    }
   ],
   "source": [
    "a = len(train_list) / all_cnt\n",
    "b = len(val_list) / all_cnt\n",
    "c = len(test_list) / all_cnt\n",
    "\n",
    "a + b + c"
   ]
  },
  {
   "cell_type": "markdown",
   "metadata": {
    "id": "Knnrr0uNOR6k",
    "tags": []
   },
   "source": [
    "#### 샘플 출력"
   ]
  },
  {
   "cell_type": "markdown",
   "metadata": {
    "tags": []
   },
   "source": [
    "##### 튜토리얼"
   ]
  },
  {
   "cell_type": "code",
   "execution_count": 8,
   "metadata": {
    "colab": {
     "base_uri": "https://localhost:8080/",
     "height": 136
    },
    "executionInfo": {
     "elapsed": 4387,
     "status": "ok",
     "timestamp": 1669100413446,
     "user": {
      "displayName": "변윤진",
      "userId": "03984191637159833471"
     },
     "user_tz": -540
    },
    "id": "0ceGuinVLsGO",
    "outputId": "7e9aaff7-2649-4248-e6b2-635a2a328c75"
   },
   "outputs": [
    {
     "data": {
      "image/png": "[encoded data removed]",
      "text/plain": [
       "<Figure size 432x288 with 1 Axes>"
      ]
     },
     "metadata": {
      "needs_background": "light"
     },
     "output_type": "display_data"
    },
    {
     "name": "stdout",
     "output_type": "stream",
     "text": [
      "Apple_Red_Delicious / Apple_Red1 / Apple_Golden1 / Apple_Braeburn / Apple_Golden2 / Apple_Red_Yellow1 / Apple_Red_Yellow2 / Apple_Braeburn / Apple_Red3 / Apple_Red2 / Apple_Granny_Smith / Apple_Golden2 / Apple_Golden2\n"
     ]
    }
   ],
   "source": [
    "# 이미지를 보여주기 위한 함수\n",
    "\n",
    "def imshow(img):\n",
    "    img = img / 2 + 0.5     # unnormalize\n",
    "    npimg = img.numpy()\n",
    "    plt.imshow(np.transpose(npimg, (1, 2, 0))) \n",
    "    # .transpose : pytorch에서 [Batch Size, Channel, Width, Height] 순으로 저장 된것을 \n",
    "    # 다시 [Width, Height, Channel]형태로 변경해줌\n",
    "    plt.show()\n",
    "\n",
    "\n",
    "# 학습용 이미지를 무작위로 가져오기 : suffle로 가져왔기 때문에 무작위.\n",
    "dataiter = iter(trainloader)  # :iter타입으로 변경\n",
    "images, labels = dataiter.next()  #iter 타입의 객체에서 값을 하나씩 뽑아옴\n",
    "\n",
    "# 이미지 보여주기\n",
    "imshow(torchvision.utils.make_grid(images))\n",
    "# 정답(label) 출력\n",
    "print(' / '.join(f'{classes[labels[j]]}' for j in range(batch_size)))"
   ]
  },
  {
   "cell_type": "code",
   "execution_count": 197,
   "metadata": {},
   "outputs": [
    {
     "name": "stdout",
     "output_type": "stream",
     "text": [
      "0  /  0\n",
      "0  /  1\n",
      "0  /  2\n",
      "0  /  3\n",
      "0  /  4\n",
      "0  /  5\n",
      "0  /  6\n",
      "1  /  0\n",
      "1  /  1\n",
      "1  /  2\n",
      "1  /  3\n",
      "1  /  4\n",
      "1  /  5\n"
     ]
    }
   ],
   "source": [
    "for i in range(0, 13) : \n",
    "    row =  (0 if i < 7 else 1)\n",
    "    columns = i % 7\n",
    "    print(row, \" / \", columns)"
   ]
  },
  {
   "cell_type": "markdown",
   "metadata": {
    "jp-MarkdownHeadingCollapsed": true,
    "tags": []
   },
   "source": [
    "##### 출력 형태 1"
   ]
  },
  {
   "cell_type": "code",
   "execution_count": 191,
   "metadata": {},
   "outputs": [
    {
     "ename": "TypeError",
     "evalue": "axes() takes from 0 to 1 positional arguments but 2 were given",
     "output_type": "error",
     "traceback": [
      "\u001b[0;31m---------------------------------------------------------------------------\u001b[0m",
      "\u001b[0;31mTypeError\u001b[0m                                 Traceback (most recent call last)",
      "\u001b[0;32m<ipython-input-191-83cd62b61aed>\u001b[0m in \u001b[0;36m<module>\u001b[0;34m\u001b[0m\n\u001b[1;32m      9\u001b[0m     \u001b[0mimage\u001b[0m \u001b[0;34m=\u001b[0m \u001b[0mImage\u001b[0m\u001b[0;34m.\u001b[0m\u001b[0mopen\u001b[0m\u001b[0;34m(\u001b[0m\u001b[0;34m''\u001b[0m\u001b[0;34m.\u001b[0m\u001b[0mjoin\u001b[0m\u001b[0;34m(\u001b[0m\u001b[0;34mf'{images[image_index]}'\u001b[0m\u001b[0;34m)\u001b[0m\u001b[0;34m)\u001b[0m\u001b[0;34m\u001b[0m\u001b[0;34m\u001b[0m\u001b[0m\n\u001b[1;32m     10\u001b[0m     \u001b[0mplt_title\u001b[0m \u001b[0;34m=\u001b[0m \u001b[0;34m\"{}\"\u001b[0m\u001b[0;34m.\u001b[0m\u001b[0mformat\u001b[0m\u001b[0;34m(\u001b[0m\u001b[0mfile_name\u001b[0m\u001b[0;34m[\u001b[0m\u001b[0;36m38\u001b[0m\u001b[0;34m:\u001b[0m\u001b[0;34m]\u001b[0m\u001b[0;34m)\u001b[0m \u001b[0;31m# image title\u001b[0m\u001b[0;34m\u001b[0m\u001b[0;34m\u001b[0m\u001b[0m\n\u001b[0;32m---> 11\u001b[0;31m     \u001b[0mplt\u001b[0m\u001b[0;34m.\u001b[0m\u001b[0maxes\u001b[0m\u001b[0;34m(\u001b[0m\u001b[0mrows\u001b[0m\u001b[0;34m,\u001b[0m \u001b[0mcolumns\u001b[0m\u001b[0;34m)\u001b[0m \u001b[0;31m# subplot\u001b[0m\u001b[0;34m\u001b[0m\u001b[0;34m\u001b[0m\u001b[0m\n\u001b[0m\u001b[1;32m     12\u001b[0m     \u001b[0mplt\u001b[0m\u001b[0;34m.\u001b[0m\u001b[0mxticks\u001b[0m\u001b[0;34m(\u001b[0m\u001b[0;34m[\u001b[0m\u001b[0;34m]\u001b[0m\u001b[0;34m)\u001b[0m  \u001b[0;31m# x = None\u001b[0m\u001b[0;34m\u001b[0m\u001b[0;34m\u001b[0m\u001b[0m\n\u001b[1;32m     13\u001b[0m     \u001b[0mplt\u001b[0m\u001b[0;34m.\u001b[0m\u001b[0myticks\u001b[0m\u001b[0;34m(\u001b[0m\u001b[0;34m[\u001b[0m\u001b[0;34m]\u001b[0m\u001b[0;34m)\u001b[0m  \u001b[0;31m# y = None\u001b[0m\u001b[0;34m\u001b[0m\u001b[0;34m\u001b[0m\u001b[0m\n",
      "\u001b[0;31mTypeError\u001b[0m: axes() takes from 0 to 1 positional arguments but 2 were given"
     ]
    }
   ],
   "source": [
    "plt.rcParams['figure.figsize'] = (10.0, 10.0)\n",
    "\n",
    "for i in range(0, 13) : \n",
    "    row = (0 if i < 7 else 1)\n",
    "    columns = i % 7\n",
    "    file_name = str(trian_file_list[i])\n",
    "    images = glob(f'{trian_file_list[i]}/*')\n",
    "        \n",
    "    image = Image.open(''.join(f'{images[image_index]}'))\n",
    "    plt_title = \"{}\".format(file_name[38:]) # image title\n",
    "    plt.axes(rows, columns)\n",
    "    plt.xticks([])  # x = None \n",
    "    plt.yticks([])  # y = None\n",
    "    plt.title(plt_title)   # title \n",
    "    plt.imshow(image)  \n",
    "    plt.show()"
   ]
  },
  {
   "cell_type": "markdown",
   "metadata": {
    "jp-MarkdownHeadingCollapsed": true,
    "tags": []
   },
   "source": [
    "##### 출력 형태 2 : 미완"
   ]
  },
  {
   "cell_type": "code",
   "execution_count": null,
   "metadata": {},
   "outputs": [],
   "source": [
    "# 학습 데이터 세트 클래스당 이미지 5장 씩 뽑아와서 보여주기. 첫 colum에는 클래스명.\n",
    "\n",
    "plt.rcParams['figure.figsize'] = (20.0, 20.0)\n",
    "\n",
    "# images = glob('apple_dataset/train/**/10_100.jpg')\n",
    "\n",
    "rows = 13\n",
    "columns = 6\n",
    "\n",
    "for i in range(0, 78):\n",
    "    image_index = i + 1 \n",
    "    file_name = str(trian_file_list[i])\n",
    "    file_dir = os.listdir(trian_file_list[i])\n",
    "    \n",
    "    plt.subplot(rows, columns, image_index) # subplot \n",
    "    plt.xticks([])  # x = None \n",
    "    plt.yticks([])  # y = None\n",
    "    \n",
    "    if(image_index % 13 == 1):\n",
    "        plt.text(10.0, 10.0, f'{file_name[32:]}')\n",
    "        plt.savefig(\"out.png\")\n",
    "        \n",
    "    else:\n",
    "        image = Image.open(glob(f'{trian_file_list[i]}/*'))\n",
    "        # // plt.axis('off')\n",
    "        plt.xticks([])  # x = None \n",
    "        plt.yticks([])  # y = None\n",
    "        plt.imshow(image)  \n",
    "        \n",
    "plt.show()"
   ]
  },
  {
   "cell_type": "markdown",
   "metadata": {
    "id": "T-btmSFiNfJL",
    "tags": []
   },
   "source": [
    "#### 분포 \n"
   ]
  },
  {
   "cell_type": "markdown",
   "metadata": {
    "id": "L_x9lU-tNl90"
   },
   "source": [
    "https://velog.io/@katinon/%ED%98%BC%EA%B3%B5%EB%A8%B8%EC%8B%A0-%EB%A8%B8%EC%8B%A0%EB%9F%AC%EB%8B%9D%EC%97%90%EC%84%9C%EC%9D%98-%EC%A7%80%EB%8F%84%ED%95%99%EC%8A%B5%EA%B3%BC-%EC%83%98%ED%94%8C%EB%A7%81-%ED%8E%B8%ED%96%A5"
   ]
  },
  {
   "cell_type": "markdown",
   "metadata": {
    "id": "u6k0V0Fx7KsQ",
    "tags": []
   },
   "source": [
    "### 모델"
   ]
  },
  {
   "cell_type": "markdown",
   "metadata": {
    "jp-MarkdownHeadingCollapsed": true,
    "tags": []
   },
   "source": [
    "#### 모델 불러오기"
   ]
  },
  {
   "cell_type": "code",
   "execution_count": 99,
   "metadata": {
    "id": "DCMXfT2M4zDJ"
   },
   "outputs": [],
   "source": [
    "# mobilenetV3 불러오기\n",
    "import torchvision.models as models\n",
    "\n",
    "model = models.mobilenet_v3_small(num_classes=13).to(device)"
   ]
  },
  {
   "cell_type": "code",
   "execution_count": null,
   "metadata": {
    "colab": {
     "base_uri": "https://localhost:8080/"
    },
    "executionInfo": {
     "elapsed": 8,
     "status": "ok",
     "timestamp": 1669092214929,
     "user": {
      "displayName": "변윤진",
      "userId": "03984191637159833471"
     },
     "user_tz": -540
    },
    "id": "VXCFvC0YOtIH",
    "outputId": "ab720315-d2ec-4a21-931c-0bc0643622c2"
   },
   "outputs": [
    {
     "data": {
      "text/plain": [
       "MobileNetV3(\n",
       "  (features): Sequential(\n",
       "    (0): ConvNormActivation(\n",
       "      (0): Conv2d(3, 16, kernel_size=(3, 3), stride=(2, 2), padding=(1, 1), bias=False)\n",
       "      (1): BatchNorm2d(16, eps=0.001, momentum=0.01, affine=True, track_running_stats=True)\n",
       "      (2): Hardswish()\n",
       "    )\n",
       "    (1): InvertedResidual(\n",
       "      (block): Sequential(\n",
       "        (0): ConvNormActivation(\n",
       "          (0): Conv2d(16, 16, kernel_size=(3, 3), stride=(2, 2), padding=(1, 1), groups=16, bias=False)\n",
       "          (1): BatchNorm2d(16, eps=0.001, momentum=0.01, affine=True, track_running_stats=True)\n",
       "          (2): ReLU(inplace=True)\n",
       "        )\n",
       "        (1): SqueezeExcitation(\n",
       "          (avgpool): AdaptiveAvgPool2d(output_size=1)\n",
       "          (fc1): Conv2d(16, 8, kernel_size=(1, 1), stride=(1, 1))\n",
       "          (fc2): Conv2d(8, 16, kernel_size=(1, 1), stride=(1, 1))\n",
       "          (activation): ReLU()\n",
       "          (scale_activation): Hardsigmoid()\n",
       "        )\n",
       "        (2): ConvNormActivation(\n",
       "          (0): Conv2d(16, 16, kernel_size=(1, 1), stride=(1, 1), bias=False)\n",
       "          (1): BatchNorm2d(16, eps=0.001, momentum=0.01, affine=True, track_running_stats=True)\n",
       "        )\n",
       "      )\n",
       "    )\n",
       "    (2): InvertedResidual(\n",
       "      (block): Sequential(\n",
       "        (0): ConvNormActivation(\n",
       "          (0): Conv2d(16, 72, kernel_size=(1, 1), stride=(1, 1), bias=False)\n",
       "          (1): BatchNorm2d(72, eps=0.001, momentum=0.01, affine=True, track_running_stats=True)\n",
       "          (2): ReLU(inplace=True)\n",
       "        )\n",
       "        (1): ConvNormActivation(\n",
       "          (0): Conv2d(72, 72, kernel_size=(3, 3), stride=(2, 2), padding=(1, 1), groups=72, bias=False)\n",
       "          (1): BatchNorm2d(72, eps=0.001, momentum=0.01, affine=True, track_running_stats=True)\n",
       "          (2): ReLU(inplace=True)\n",
       "        )\n",
       "        (2): ConvNormActivation(\n",
       "          (0): Conv2d(72, 24, kernel_size=(1, 1), stride=(1, 1), bias=False)\n",
       "          (1): BatchNorm2d(24, eps=0.001, momentum=0.01, affine=True, track_running_stats=True)\n",
       "        )\n",
       "      )\n",
       "    )\n",
       "    (3): InvertedResidual(\n",
       "      (block): Sequential(\n",
       "        (0): ConvNormActivation(\n",
       "          (0): Conv2d(24, 88, kernel_size=(1, 1), stride=(1, 1), bias=False)\n",
       "          (1): BatchNorm2d(88, eps=0.001, momentum=0.01, affine=True, track_running_stats=True)\n",
       "          (2): ReLU(inplace=True)\n",
       "        )\n",
       "        (1): ConvNormActivation(\n",
       "          (0): Conv2d(88, 88, kernel_size=(3, 3), stride=(1, 1), padding=(1, 1), groups=88, bias=False)\n",
       "          (1): BatchNorm2d(88, eps=0.001, momentum=0.01, affine=True, track_running_stats=True)\n",
       "          (2): ReLU(inplace=True)\n",
       "        )\n",
       "        (2): ConvNormActivation(\n",
       "          (0): Conv2d(88, 24, kernel_size=(1, 1), stride=(1, 1), bias=False)\n",
       "          (1): BatchNorm2d(24, eps=0.001, momentum=0.01, affine=True, track_running_stats=True)\n",
       "        )\n",
       "      )\n",
       "    )\n",
       "    (4): InvertedResidual(\n",
       "      (block): Sequential(\n",
       "        (0): ConvNormActivation(\n",
       "          (0): Conv2d(24, 96, kernel_size=(1, 1), stride=(1, 1), bias=False)\n",
       "          (1): BatchNorm2d(96, eps=0.001, momentum=0.01, affine=True, track_running_stats=True)\n",
       "          (2): Hardswish()\n",
       "        )\n",
       "        (1): ConvNormActivation(\n",
       "          (0): Conv2d(96, 96, kernel_size=(5, 5), stride=(2, 2), padding=(2, 2), groups=96, bias=False)\n",
       "          (1): BatchNorm2d(96, eps=0.001, momentum=0.01, affine=True, track_running_stats=True)\n",
       "          (2): Hardswish()\n",
       "        )\n",
       "        (2): SqueezeExcitation(\n",
       "          (avgpool): AdaptiveAvgPool2d(output_size=1)\n",
       "          (fc1): Conv2d(96, 24, kernel_size=(1, 1), stride=(1, 1))\n",
       "          (fc2): Conv2d(24, 96, kernel_size=(1, 1), stride=(1, 1))\n",
       "          (activation): ReLU()\n",
       "          (scale_activation): Hardsigmoid()\n",
       "        )\n",
       "        (3): ConvNormActivation(\n",
       "          (0): Conv2d(96, 40, kernel_size=(1, 1), stride=(1, 1), bias=False)\n",
       "          (1): BatchNorm2d(40, eps=0.001, momentum=0.01, affine=True, track_running_stats=True)\n",
       "        )\n",
       "      )\n",
       "    )\n",
       "    (5): InvertedResidual(\n",
       "      (block): Sequential(\n",
       "        (0): ConvNormActivation(\n",
       "          (0): Conv2d(40, 240, kernel_size=(1, 1), stride=(1, 1), bias=False)\n",
       "          (1): BatchNorm2d(240, eps=0.001, momentum=0.01, affine=True, track_running_stats=True)\n",
       "          (2): Hardswish()\n",
       "        )\n",
       "        (1): ConvNormActivation(\n",
       "          (0): Conv2d(240, 240, kernel_size=(5, 5), stride=(1, 1), padding=(2, 2), groups=240, bias=False)\n",
       "          (1): BatchNorm2d(240, eps=0.001, momentum=0.01, affine=True, track_running_stats=True)\n",
       "          (2): Hardswish()\n",
       "        )\n",
       "        (2): SqueezeExcitation(\n",
       "          (avgpool): AdaptiveAvgPool2d(output_size=1)\n",
       "          (fc1): Conv2d(240, 64, kernel_size=(1, 1), stride=(1, 1))\n",
       "          (fc2): Conv2d(64, 240, kernel_size=(1, 1), stride=(1, 1))\n",
       "          (activation): ReLU()\n",
       "          (scale_activation): Hardsigmoid()\n",
       "        )\n",
       "        (3): ConvNormActivation(\n",
       "          (0): Conv2d(240, 40, kernel_size=(1, 1), stride=(1, 1), bias=False)\n",
       "          (1): BatchNorm2d(40, eps=0.001, momentum=0.01, affine=True, track_running_stats=True)\n",
       "        )\n",
       "      )\n",
       "    )\n",
       "    (6): InvertedResidual(\n",
       "      (block): Sequential(\n",
       "        (0): ConvNormActivation(\n",
       "          (0): Conv2d(40, 240, kernel_size=(1, 1), stride=(1, 1), bias=False)\n",
       "          (1): BatchNorm2d(240, eps=0.001, momentum=0.01, affine=True, track_running_stats=True)\n",
       "          (2): Hardswish()\n",
       "        )\n",
       "        (1): ConvNormActivation(\n",
       "          (0): Conv2d(240, 240, kernel_size=(5, 5), stride=(1, 1), padding=(2, 2), groups=240, bias=False)\n",
       "          (1): BatchNorm2d(240, eps=0.001, momentum=0.01, affine=True, track_running_stats=True)\n",
       "          (2): Hardswish()\n",
       "        )\n",
       "        (2): SqueezeExcitation(\n",
       "          (avgpool): AdaptiveAvgPool2d(output_size=1)\n",
       "          (fc1): Conv2d(240, 64, kernel_size=(1, 1), stride=(1, 1))\n",
       "          (fc2): Conv2d(64, 240, kernel_size=(1, 1), stride=(1, 1))\n",
       "          (activation): ReLU()\n",
       "          (scale_activation): Hardsigmoid()\n",
       "        )\n",
       "        (3): ConvNormActivation(\n",
       "          (0): Conv2d(240, 40, kernel_size=(1, 1), stride=(1, 1), bias=False)\n",
       "          (1): BatchNorm2d(40, eps=0.001, momentum=0.01, affine=True, track_running_stats=True)\n",
       "        )\n",
       "      )\n",
       "    )\n",
       "    (7): InvertedResidual(\n",
       "      (block): Sequential(\n",
       "        (0): ConvNormActivation(\n",
       "          (0): Conv2d(40, 120, kernel_size=(1, 1), stride=(1, 1), bias=False)\n",
       "          (1): BatchNorm2d(120, eps=0.001, momentum=0.01, affine=True, track_running_stats=True)\n",
       "          (2): Hardswish()\n",
       "        )\n",
       "        (1): ConvNormActivation(\n",
       "          (0): Conv2d(120, 120, kernel_size=(5, 5), stride=(1, 1), padding=(2, 2), groups=120, bias=False)\n",
       "          (1): BatchNorm2d(120, eps=0.001, momentum=0.01, affine=True, track_running_stats=True)\n",
       "          (2): Hardswish()\n",
       "        )\n",
       "        (2): SqueezeExcitation(\n",
       "          (avgpool): AdaptiveAvgPool2d(output_size=1)\n",
       "          (fc1): Conv2d(120, 32, kernel_size=(1, 1), stride=(1, 1))\n",
       "          (fc2): Conv2d(32, 120, kernel_size=(1, 1), stride=(1, 1))\n",
       "          (activation): ReLU()\n",
       "          (scale_activation): Hardsigmoid()\n",
       "        )\n",
       "        (3): ConvNormActivation(\n",
       "          (0): Conv2d(120, 48, kernel_size=(1, 1), stride=(1, 1), bias=False)\n",
       "          (1): BatchNorm2d(48, eps=0.001, momentum=0.01, affine=True, track_running_stats=True)\n",
       "        )\n",
       "      )\n",
       "    )\n",
       "    (8): InvertedResidual(\n",
       "      (block): Sequential(\n",
       "        (0): ConvNormActivation(\n",
       "          (0): Conv2d(48, 144, kernel_size=(1, 1), stride=(1, 1), bias=False)\n",
       "          (1): BatchNorm2d(144, eps=0.001, momentum=0.01, affine=True, track_running_stats=True)\n",
       "          (2): Hardswish()\n",
       "        )\n",
       "        (1): ConvNormActivation(\n",
       "          (0): Conv2d(144, 144, kernel_size=(5, 5), stride=(1, 1), padding=(2, 2), groups=144, bias=False)\n",
       "          (1): BatchNorm2d(144, eps=0.001, momentum=0.01, affine=True, track_running_stats=True)\n",
       "          (2): Hardswish()\n",
       "        )\n",
       "        (2): SqueezeExcitation(\n",
       "          (avgpool): AdaptiveAvgPool2d(output_size=1)\n",
       "          (fc1): Conv2d(144, 40, kernel_size=(1, 1), stride=(1, 1))\n",
       "          (fc2): Conv2d(40, 144, kernel_size=(1, 1), stride=(1, 1))\n",
       "          (activation): ReLU()\n",
       "          (scale_activation): Hardsigmoid()\n",
       "        )\n",
       "        (3): ConvNormActivation(\n",
       "          (0): Conv2d(144, 48, kernel_size=(1, 1), stride=(1, 1), bias=False)\n",
       "          (1): BatchNorm2d(48, eps=0.001, momentum=0.01, affine=True, track_running_stats=True)\n",
       "        )\n",
       "      )\n",
       "    )\n",
       "    (9): InvertedResidual(\n",
       "      (block): Sequential(\n",
       "        (0): ConvNormActivation(\n",
       "          (0): Conv2d(48, 288, kernel_size=(1, 1), stride=(1, 1), bias=False)\n",
       "          (1): BatchNorm2d(288, eps=0.001, momentum=0.01, affine=True, track_running_stats=True)\n",
       "          (2): Hardswish()\n",
       "        )\n",
       "        (1): ConvNormActivation(\n",
       "          (0): Conv2d(288, 288, kernel_size=(5, 5), stride=(2, 2), padding=(2, 2), groups=288, bias=False)\n",
       "          (1): BatchNorm2d(288, eps=0.001, momentum=0.01, affine=True, track_running_stats=True)\n",
       "          (2): Hardswish()\n",
       "        )\n",
       "        (2): SqueezeExcitation(\n",
       "          (avgpool): AdaptiveAvgPool2d(output_size=1)\n",
       "          (fc1): Conv2d(288, 72, kernel_size=(1, 1), stride=(1, 1))\n",
       "          (fc2): Conv2d(72, 288, kernel_size=(1, 1), stride=(1, 1))\n",
       "          (activation): ReLU()\n",
       "          (scale_activation): Hardsigmoid()\n",
       "        )\n",
       "        (3): ConvNormActivation(\n",
       "          (0): Conv2d(288, 96, kernel_size=(1, 1), stride=(1, 1), bias=False)\n",
       "          (1): BatchNorm2d(96, eps=0.001, momentum=0.01, affine=True, track_running_stats=True)\n",
       "        )\n",
       "      )\n",
       "    )\n",
       "    (10): InvertedResidual(\n",
       "      (block): Sequential(\n",
       "        (0): ConvNormActivation(\n",
       "          (0): Conv2d(96, 576, kernel_size=(1, 1), stride=(1, 1), bias=False)\n",
       "          (1): BatchNorm2d(576, eps=0.001, momentum=0.01, affine=True, track_running_stats=True)\n",
       "          (2): Hardswish()\n",
       "        )\n",
       "        (1): ConvNormActivation(\n",
       "          (0): Conv2d(576, 576, kernel_size=(5, 5), stride=(1, 1), padding=(2, 2), groups=576, bias=False)\n",
       "          (1): BatchNorm2d(576, eps=0.001, momentum=0.01, affine=True, track_running_stats=True)\n",
       "          (2): Hardswish()\n",
       "        )\n",
       "        (2): SqueezeExcitation(\n",
       "          (avgpool): AdaptiveAvgPool2d(output_size=1)\n",
       "          (fc1): Conv2d(576, 144, kernel_size=(1, 1), stride=(1, 1))\n",
       "          (fc2): Conv2d(144, 576, kernel_size=(1, 1), stride=(1, 1))\n",
       "          (activation): ReLU()\n",
       "          (scale_activation): Hardsigmoid()\n",
       "        )\n",
       "        (3): ConvNormActivation(\n",
       "          (0): Conv2d(576, 96, kernel_size=(1, 1), stride=(1, 1), bias=False)\n",
       "          (1): BatchNorm2d(96, eps=0.001, momentum=0.01, affine=True, track_running_stats=True)\n",
       "        )\n",
       "      )\n",
       "    )\n",
       "    (11): InvertedResidual(\n",
       "      (block): Sequential(\n",
       "        (0): ConvNormActivation(\n",
       "          (0): Conv2d(96, 576, kernel_size=(1, 1), stride=(1, 1), bias=False)\n",
       "          (1): BatchNorm2d(576, eps=0.001, momentum=0.01, affine=True, track_running_stats=True)\n",
       "          (2): Hardswish()\n",
       "        )\n",
       "        (1): ConvNormActivation(\n",
       "          (0): Conv2d(576, 576, kernel_size=(5, 5), stride=(1, 1), padding=(2, 2), groups=576, bias=False)\n",
       "          (1): BatchNorm2d(576, eps=0.001, momentum=0.01, affine=True, track_running_stats=True)\n",
       "          (2): Hardswish()\n",
       "        )\n",
       "        (2): SqueezeExcitation(\n",
       "          (avgpool): AdaptiveAvgPool2d(output_size=1)\n",
       "          (fc1): Conv2d(576, 144, kernel_size=(1, 1), stride=(1, 1))\n",
       "          (fc2): Conv2d(144, 576, kernel_size=(1, 1), stride=(1, 1))\n",
       "          (activation): ReLU()\n",
       "          (scale_activation): Hardsigmoid()\n",
       "        )\n",
       "        (3): ConvNormActivation(\n",
       "          (0): Conv2d(576, 96, kernel_size=(1, 1), stride=(1, 1), bias=False)\n",
       "          (1): BatchNorm2d(96, eps=0.001, momentum=0.01, affine=True, track_running_stats=True)\n",
       "        )\n",
       "      )\n",
       "    )\n",
       "    (12): ConvNormActivation(\n",
       "      (0): Conv2d(96, 576, kernel_size=(1, 1), stride=(1, 1), bias=False)\n",
       "      (1): BatchNorm2d(576, eps=0.001, momentum=0.01, affine=True, track_running_stats=True)\n",
       "      (2): Hardswish()\n",
       "    )\n",
       "  )\n",
       "  (avgpool): AdaptiveAvgPool2d(output_size=1)\n",
       "  (classifier): Sequential(\n",
       "    (0): Linear(in_features=576, out_features=1024, bias=True)\n",
       "    (1): Hardswish()\n",
       "    (2): Dropout(p=0.2, inplace=True)\n",
       "    (3): Linear(in_features=1024, out_features=13, bias=True)\n",
       "  )\n",
       ")"
      ]
     },
     "execution_count": 100,
     "metadata": {},
     "output_type": "execute_result"
    }
   ],
   "source": [
    "# 모델 정보 출력. 11개의 층으로 이루어짐.\n",
    "model"
   ]
  },
  {
   "cell_type": "markdown",
   "metadata": {
    "id": "ZvAP06StNd5T"
   },
   "source": [
    "#### 모델 학습"
   ]
  },
  {
   "cell_type": "code",
   "execution_count": null,
   "metadata": {
    "id": "LsYPvJ9eST4p"
   },
   "outputs": [],
   "source": [
    "criterion = nn.CrossEntropyLoss()   # 손실 함수\n",
    "optimizer = optim.SGD(model.parameters(), lr=0.001, momentum=0.9) # optimizer SGD(경사하강법)사용"
   ]
  },
  {
   "cell_type": "code",
   "execution_count": null,
   "metadata": {
    "colab": {
     "base_uri": "https://localhost:8080/"
    },
    "executionInfo": {
     "elapsed": 69794,
     "status": "ok",
     "timestamp": 1669093254978,
     "user": {
      "displayName": "변윤진",
      "userId": "03984191637159833471"
     },
     "user_tz": -540
    },
    "id": "KadYOpCb8pYi",
    "outputId": "4c6414b1-0621-4adb-aa69-118dc268b1cd"
   },
   "outputs": [
    {
     "name": "stdout",
     "output_type": "stream",
     "text": [
      "[1,   100] loss: 1.950\n",
      "[1,   200] loss: 1.861\n",
      "[1,   300] loss: 1.631\n",
      "[1,   400] loss: 1.458\n",
      "[2,   100] loss: 1.142\n",
      "[2,   200] loss: 0.982\n",
      "[2,   300] loss: 0.812\n",
      "[2,   400] loss: 0.657\n",
      "Finished Training\n"
     ]
    }
   ],
   "source": [
    "\n",
    "for epoch in range(2):   # 데이터셋을 수차례 반복합니다. epoch : 2 / batch_size : 13 (class  개수대로)\n",
    "\n",
    "    running_loss = 0.0\n",
    "    for i, data in enumerate(trainloader, 0):\n",
    "        # [inputs, labels]의 목록인 data로부터 입력을 받은 후;\n",
    "        inputs, labels = data\n",
    "\n",
    "        # 변화도(Gradient) 매개변수를 0으로 만들고\n",
    "        optimizer.zero_grad()\n",
    "\n",
    "        # 순전파 + 역전파 + 최적화를 한 후\n",
    "        outputs = model(inputs.cuda())\n",
    "        loss = criterion(outputs.cpu(), labels) # criterion : 손실함수\n",
    "        loss.backward() # 자동 미분\n",
    "        optimizer.step()\n",
    "        # inputs = inputs.cpu()\n",
    "        # 통계를 출력합니다.\n",
    "        running_loss += loss.item()\n",
    "        if i % 100 == 99:    # print every 2000 mini-batches\n",
    "            print(f'[{epoch + 1}, {i + 1:5d}] loss: {running_loss / 100:.3f}') # loss : loss 평균값 출력\n",
    "                                                                      # .3f:소수점 3자리만 출력\n",
    "            running_loss = 0.0\n",
    "\n",
    "print('Finished Training')"
   ]
  },
  {
   "cell_type": "code",
   "execution_count": null,
   "metadata": {
    "id": "1ZLgbDDWRTzE"
   },
   "outputs": [],
   "source": []
  },
  {
   "cell_type": "markdown",
   "metadata": {
    "id": "jQpvdJwONx2d"
   },
   "source": [
    "##### 학습 현황 확인"
   ]
  },
  {
   "cell_type": "markdown",
   "metadata": {
    "id": "8aKpjMuTNz2O"
   },
   "source": [
    "https://gaussian37.github.io/dl-pytorch-observe/"
   ]
  },
  {
   "cell_type": "markdown",
   "metadata": {
    "id": "pZO8193USxV6"
   },
   "source": [
    "#### 혼돈 행렬"
   ]
  },
  {
   "cell_type": "markdown",
   "metadata": {
    "id": "mYMJt3YjOhJb"
   },
   "source": [
    "##### 모델 평가 지표"
   ]
  },
  {
   "cell_type": "markdown",
   "metadata": {
    "id": "FWeaMCZ1OjDc"
   },
   "source": [
    "https://rabo0313.tistory.com/entry/ML-%EB%B6%84%EB%A5%98-%EB%AA%A8%EB%8D%B8-%EC%84%B1%EB%8A%A5-%ED%8F%89%EA%B0%80-%EC%A7%80%ED%91%9C-Confusion-Matrix-accuracy-precision-recall-f1-score-ROC-AUC-curve"
   ]
  },
  {
   "cell_type": "markdown",
   "metadata": {
    "id": "-jh8TGM_S0V0"
   },
   "source": [
    "https://skillmemory.tistory.com/entry/%EB%A8%B8%EC%8B%A0%EB%9F%AC%EB%8B%9D-%EB%B6%84%EB%A5%98-%ED%98%BC%EB%8F%99-%ED%96%89%EB%A0%ACConfusion-matrix"
   ]
  },
  {
   "cell_type": "markdown",
   "metadata": {
    "id": "jIvxY5aiTS3M"
   },
   "source": [
    "https://truman.tistory.com/179"
   ]
  },
  {
   "cell_type": "markdown",
   "metadata": {
    "id": "JsE6BZGgy-4k"
   },
   "source": [
    "#### 전체 데이터셋에 대해 어떻게 작동하는가"
   ]
  },
  {
   "cell_type": "code",
   "execution_count": null,
   "metadata": {
    "id": "C29DPEFTLplc"
   },
   "outputs": [],
   "source": [
    "outputs = model(images.cuda())"
   ]
  },
  {
   "cell_type": "code",
   "execution_count": null,
   "metadata": {
    "colab": {
     "base_uri": "https://localhost:8080/"
    },
    "executionInfo": {
     "elapsed": 5,
     "status": "ok",
     "timestamp": 1669094418425,
     "user": {
      "displayName": "변윤진",
      "userId": "03984191637159833471"
     },
     "user_tz": -540
    },
    "id": "sIRZgYNgLs2Z",
    "outputId": "6f685441-c2ed-4dd8-d675-df14c839f052"
   },
   "outputs": [
    {
     "name": "stdout",
     "output_type": "stream",
     "text": [
      "Predicted:  Apple Pink Lady Apple Red Yellow 2 Apple Pink Lady Apple Golden 1\n"
     ]
    }
   ],
   "source": [
    "_, predicted = torch.max(outputs, 1)\n",
    "\n",
    "print('Predicted: ', ' '.join(f'{classes[predicted[j]]:5s}'\n",
    "                              for j in range(13)))"
   ]
  },
  {
   "cell_type": "markdown",
   "metadata": {
    "id": "q03tGvd7FOHc"
   },
   "source": [
    "#### 각 분류별 정확도 출력"
   ]
  },
  {
   "cell_type": "code",
   "execution_count": null,
   "metadata": {
    "colab": {
     "base_uri": "https://localhost:8080/"
    },
    "executionInfo": {
     "elapsed": 4349,
     "status": "ok",
     "timestamp": 1669095314172,
     "user": {
      "displayName": "변윤진",
      "userId": "03984191637159833471"
     },
     "user_tz": -540
    },
    "id": "tG0bCJo-1FmB",
    "outputId": "fa1e0260-e387-4985-af82-827a796e28f8"
   },
   "outputs": [
    {
     "name": "stdout",
     "output_type": "stream",
     "text": [
      "Accuracy for class: Apple Braeburn is 14.0 %\n",
      "Accuracy for class: Apple Crimson Snow is 8.1 %\n",
      "Accuracy for class: Apple Golden 1 is 8.1 %\n",
      "Accuracy for class: Apple Golden 2 is 9.1 %\n",
      "Accuracy for class: Apple Golden 3 is 3.7 %\n",
      "Accuracy for class: Apple Granny Smith is 7.3 %\n",
      "Accuracy for class: Apple Pink Lady is 7.2 %\n",
      "Accuracy for class: Apple Red 1 is 9.8 %\n",
      "Accuracy for class: Apple Red 2 is 7.3 %\n",
      "Accuracy for class: Apple Red 3 is 13.9 %\n",
      "Accuracy for class: Apple Red Delicious is 13.9 %\n",
      "Accuracy for class: Apple Red Yellow 1 is 13.4 %\n",
      "Accuracy for class: Apple Red Yellow 2 is 14.2 %\n"
     ]
    }
   ],
   "source": [
    "# 각 분류(class)에 대한 예측값 계산을 위해 준비\n",
    "correct_pred = {classname: 0 for classname in classes}\n",
    "total_pred = {classname: 0 for classname in classes}\n",
    "\n",
    "# 변화도는 여전히 필요하지 않습니다\n",
    "with torch.no_grad():\n",
    "    for data in tqdm(testloader):\n",
    "        images, labels = data\n",
    "        outputs = model(images.cuda())\n",
    "        _, predictions = torch.max(outputs, 1)\n",
    "        # 각 분류별로 올바른 예측 수를 모읍니다\n",
    "        for label, prediction in zip(labels, predictions):\n",
    "            if label == prediction:\n",
    "                correct_pred[classes[label]] += 1\n",
    "            total_pred[classes[label]] += 1\n",
    "\n",
    "\n",
    "# 각 분류별 정확도(accuracy)를 출력합니다\n",
    "for classname, correct_count in correct_pred.items():\n",
    "    accuracy = 100 * float(correct_count) / total_pred[classname]\n",
    "    print(f'Accuracy for class: {classname:5s} is {accuracy:.1f} %')"
   ]
  }
 ],
 "metadata": {
  "accelerator": "GPU",
  "colab": {
   "authorship_tag": "ABX9TyMKF7CdtIazVeJSVFOrZfo7",
   "collapsed_sections": [
    "MWYAtlSZOYGO",
    "jQpvdJwONx2d",
    "mYMJt3YjOhJb",
    "JsE6BZGgy-4k"
   ],
   "provenance": []
  },
  "gpuClass": "standard",
  "kernelspec": {
   "display_name": "Python 3",
   "language": "python",
   "name": "python3"
  },
  "language_info": {
   "codemirror_mode": {
    "name": "ipython",
    "version": 3
   },
   "file_extension": ".py",
   "mimetype": "text/x-python",
   "name": "python",
   "nbconvert_exporter": "python",
   "pygments_lexer": "ipython3",
   "version": "3.6.9"
  }
 },
 "nbformat": 4,
 "nbformat_minor": 4
}
